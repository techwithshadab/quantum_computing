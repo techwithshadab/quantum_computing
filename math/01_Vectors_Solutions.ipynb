{
 "cells": [
  {
   "cell_type": "markdown",
   "metadata": {},
   "source": [
    "<font style=\"font-size:28px;\" align=\"left\"><b><font color=\"blue\"> Solutions for </font> Vectors: One Dimensional List</b></font>"
   ]
  },
  {
   "cell_type": "markdown",
   "metadata": {},
   "source": [
    "<a id=\"task1\"></a>\n",
    "<h3> Task 1 </h3>\n",
    "\n",
    "Create two 7-dimensional vectors $u$ and $ v $ as two different lists in Python having entries randomly picked between $-10$ and $10$. \n",
    "\n",
    "Print their entries."
   ]
  },
  {
   "cell_type": "markdown",
   "metadata": {},
   "source": [
    "<h3>Solution</h3>"
   ]
  },
  {
   "cell_type": "code",
   "execution_count": null,
   "metadata": {},
   "outputs": [],
   "source": [
    "from random import randrange\n",
    "\n",
    "dimension = 7\n",
    "\n",
    "# create u and v as empty lists \n",
    "u = []\n",
    "v = []\n",
    "\n",
    "for i in range(dimension):\n",
    "    u.append(randrange(-10,11)) # add a randomly picked number to the list u\n",
    "    v.append(randrange(-10,11)) # add a randomly picked number to the list v\n",
    "\n",
    "# print both lists\n",
    "print(\"u is\",u)\n",
    "print(\"v is\",v)"
   ]
  },
  {
   "cell_type": "markdown",
   "metadata": {},
   "source": [
    "<a id=\"task2\"></a>\n",
    "<h3> Task 2 </h3>\n",
    "\n",
    "By using the same vectors, find the vector $  (3  u-2  v) $ and print its entries. Here $ 3u $ and $ 2v $ means $u$ and $v$ are multiplied by $3$ and $2$, respectively."
   ]
  },
  {
   "cell_type": "markdown",
   "metadata": {},
   "source": [
    "<h3>Solution</h3>"
   ]
  },
  {
   "cell_type": "code",
   "execution_count": null,
   "metadata": {},
   "outputs": [],
   "source": [
    "# please execute the cell for Task 1 to define u and v\n",
    "# create a result list \n",
    "\n",
    "# the first method\n",
    "result=[]\n",
    "\n",
    "# fill it with zeros\n",
    "for i in range(dimension): \n",
    "    result.append(0)\n",
    "\n",
    "print(\"by using the first method, the result vector is initialized to\",result)\n",
    "\n",
    "# the second method\n",
    "# alternative and shorter solution for creating a list with zeros\n",
    "result = [0] * 7 \n",
    "\n",
    "print(\"by using the second method, the result vector is initialized to\",result)\n",
    "\n",
    "# calculate 3u-2v\n",
    "for i in range(dimension):\n",
    "    result[i] = 3 * u[i] - 2 * v[i]\n",
    "\n",
    "# print all lists\n",
    "print(\"u is\",u)\n",
    "print(\"v is\",v)\n",
    "print(\"3u-2v is\",result)"
   ]
  },
  {
   "cell_type": "markdown",
   "metadata": {},
   "source": [
    "<a id=\"task3\"></a>\n",
    "<h3> Task 3 </h3>\n",
    "\n",
    "Let $ u = \\myrvector{1 \\\\ -2 \\\\ -4 \\\\ 2} $ be a four dimensional vector.\n",
    "\n",
    "Verify that $ \\norm{4 u} = 4 \\cdot \\norm{u} $ in Python. \n",
    "\n",
    "Remark that $ 4u $ is another vector obtained from $ u $ by multiplying it with 4."
   ]
  },
  {
   "cell_type": "markdown",
   "metadata": {},
   "source": [
    "<h3>Solution</h3>"
   ]
  },
  {
   "cell_type": "code",
   "execution_count": null,
   "metadata": {},
   "outputs": [],
   "source": [
    "u = [1,-2,-4,2]\n",
    "\n",
    "fouru=[4,-8,-16,8]\n",
    "\n",
    "len_u = 0\n",
    "len_fouru = 0\n",
    "for i in range(len(u)):\n",
    "    len_u = len_u + u[i]**2 # adding square of each value \n",
    "    len_fouru = len_fouru + fouru[i]**2 # adding square of each value\n",
    "\n",
    "len_u = len_u ** 0.5 # taking square root of the summation\n",
    "len_fouru = len_fouru ** 0.5 # taking square root of the summation\n",
    "\n",
    "# print the lengths\n",
    "print(\"length of u is\",len_u)\n",
    "print(\"4 * length of u is\",4 * len_u)\n",
    "print(\"length of 4u is\",len_fouru)"
   ]
  },
  {
   "cell_type": "markdown",
   "metadata": {},
   "source": [
    "<a id=\"task4\"></a>\n",
    "<h3> Task 4 </h3>\n",
    "\n",
    "Let $ u = \\myrvector{1 \\\\ -2 \\\\ -4 \\\\ 2} $ be a four dimensional vector.\n",
    "\n",
    "Randomly pick a number $r$ from $ \\left\\{ \\dfrac{1}{10}, \\dfrac{2}{10}, \\cdots, \\dfrac{9}{10} \\right\\} $.\n",
    "\n",
    "Find the vector $(-r)\\cdot u$ and then its length."
   ]
  },
  {
   "cell_type": "markdown",
   "metadata": {},
   "source": [
    "<h3>Solution</h3>"
   ]
  },
  {
   "cell_type": "code",
   "execution_count": null,
   "metadata": {},
   "outputs": [],
   "source": [
    "from random import randrange\n",
    "\n",
    "u = [1,-2,-4,2]\n",
    "\n",
    "print(\"u is\",u)\n",
    "\n",
    "r = randrange(9) # r is a number in {0,...,8}\n",
    "r = r + 1 # r is a number in {1,...,9}\n",
    "r = r/10 # r is a number in {1/10,...,9/10}\n",
    "\n",
    "print()\n",
    "print(\"r is\",r)\n",
    "\n",
    "newu=[]\n",
    "\n",
    "for i in range(len(u)):\n",
    "    newu.append(-1*r*u[i])\n",
    "\n",
    "print()   \n",
    "print(\"-ru is\",newu)\n",
    "print()\n",
    "\n",
    "length = 0\n",
    "\n",
    "for i in range(len(newu)):\n",
    "    length = length + newu[i]**2 # adding square of each number\n",
    "    print(newu[i],\"->[square]->\",newu[i]**2)\n",
    "    \n",
    "print()    \n",
    "print(\"the summation of squares is\",length)    \n",
    "length = length**0.5 # taking square root\n",
    "print(\"the length of\",newu,\"is\",length)"
   ]
  },
  {
   "cell_type": "markdown",
   "metadata": {},
   "source": [
    "Remark that:\n",
    "\n",
    "The length of $ u $ is 5.\n",
    "\n",
    "The length of $ (-r)u $ will be $ 5r $.  "
   ]
  }
 ],
 "metadata": {
  "kernelspec": {
   "display_name": "Python 3 (ipykernel)",
   "language": "python",
   "name": "python3"
  },
  "language_info": {
   "codemirror_mode": {
    "name": "ipython",
    "version": 3
   },
   "file_extension": ".py",
   "mimetype": "text/x-python",
   "name": "python",
   "nbconvert_exporter": "python",
   "pygments_lexer": "ipython3",
   "version": "3.13.5"
  }
 },
 "nbformat": 4,
 "nbformat_minor": 4
}
