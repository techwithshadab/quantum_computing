{
 "cells": [
  {
   "cell_type": "markdown",
   "metadata": {},
   "source": [
    "<font style=\"font-size:28px;\" align=\"left\"><b> <font color=\"blue\"> Solutions for </font>Correlation </b></font>"
   ]
  },
  {
   "cell_type": "markdown",
   "metadata": {},
   "source": [
    "<a id=\"task1\"></a>\n",
    "<h3> Task 1 </h3>\n",
    "\n",
    "Calculate the state of composite system."
   ]
  },
  {
   "cell_type": "markdown",
   "metadata": {},
   "source": [
    "<h3>Solution</h3>\n",
    "\n",
    "The probabilistic states of Asja and Balvis are $ \\myvector{\\frac{1}{2} \\\\ \\frac{1}{2}} $ and $ \\myvector{1 \\\\ 0} $, respectively.\n",
    "\n",
    "The state of composite system is $ \\myvector{\\frac{1}{2} \\\\ \\frac{1}{2}} \\otimes \\myvector{1 \\\\ 0} = \\myvector{\\frac{1}{2} \\myvector{1 \\\\ 0} \\\\ \\frac{1}{2} \\myvector{1 \\\\ 0} } = \\myvector{\\frac{1}{2} \\\\ 0 \\\\ \\frac{1}{2} \\\\ 0 } = \\frac{1}{2} \\pstate{00} + \\frac{1}{2} \\pstate{10}  $."
   ]
  },
  {
   "cell_type": "markdown",
   "metadata": {},
   "source": [
    "<a id=\"task2\"></a>\n",
    "<h3> Task 2 </h3>\n",
    "\n",
    "Verify that the state of composite system is $ \\frac{1}{2} \\pstate{00} + \\frac{1}{2} \\pstate{11} $ after CNOT operator."
   ]
  },
  {
   "cell_type": "markdown",
   "metadata": {},
   "source": [
    "<h3>Solution</h3>\n",
    "\n",
    "$ CNOT \\big( \\frac{1}{2} \\pstate{00} + \\frac{1}{2} \\pstate{10} \\big) = CNOT  \\frac{1}{2} \\pstate{00} + CNOT \\frac{1}{2} \\pstate{10} = \\frac{1}{2} \\pstate{00} + \\frac{1}{2} \\pstate{11}  $.\n",
    "\n",
    "Alternatively,\n",
    "\n",
    "$ \\CNOT  \\myvector{\\frac{1}{2} \\\\ 0 \\\\ \\frac{1}{2} \\\\ 0 } =  \\myvector{\\frac{1}{2} \\\\ 0 \\\\ 0 \\\\ \\frac{1}{2}  } = \\frac{1}{2} \\pstate{00} + \\frac{1}{2} \\pstate{11} $."
   ]
  },
  {
   "cell_type": "markdown",
   "metadata": {},
   "source": [
    "<a id=\"task4\"></a>\n",
    "<h3> Task 4 </h3>\n",
    "\n",
    "Show that it is not possible to write $ \\myvector{ \\frac{1}{2} \\\\ 0 \\\\ 0 \\\\ \\frac{1}{2} } $ as $ \\myvector{a\\\\b} \\otimes \\myvector{c\\\\d} $ for some numbers $ a,b,c,$ and $d $.\n",
    "\n",
    "<i>Remark that the correlation in general might not be easily shown as in this basic example. </i>"
   ]
  },
  {
   "cell_type": "markdown",
   "metadata": {},
   "source": [
    "<h3>Solution</h3>\n",
    "\n",
    " $ \\myvector{a\\\\b} \\otimes \\myvector{c\\\\d} = \\myvector{ a  \\myvector{c\\\\d}  \\\\ b  \\myvector{c\\\\d}  } = \\myvector{ ac \\\\ ad \\\\ bc \\\\ bd } $. \n",
    " \n",
    "Since $ ac = \\frac{1}{2} $, we can conclude that $a$ and $c$ are nonzero numbers.\n",
    "\n",
    "Since $ bd = \\frac{1}{2} $, we can conclude that $b$ and $d$ are nonzero numbers.\n",
    "\n",
    "Therefore, $ ad $ and $ bc $ are also nonzero numbers. \n",
    "\n",
    "But, this is a contradiction: $ \\myvector{ ac \\\\ ad \\\\ bc \\\\ bd } = \\myvector{\\frac{1}{2} \\\\ 0 \\\\ 0 \\\\ \\frac{1}{2}} $, and so $ ad $ and $ bc $ must be zeros.\n"
   ]
  },
  {
   "cell_type": "markdown",
   "metadata": {},
   "source": [
    "<a id=\"task7\"></a>\n",
    "<h3> Task 7 </h3>\n",
    "\n",
    "Calculate the new state of the composed system defined on the three bits after the CNOT operator defined in Task 5 or Task6.\n",
    "\n",
    "$ \\frac{1}{2} \\pstate{000} + \\frac{1}{2} \\pstate{110} \\rightarrow ? $"
   ]
  },
  {
   "cell_type": "markdown",
   "metadata": {},
   "source": [
    "<h3>Solution</h3>\n",
    "\n",
    "\n",
    "$ \\frac{1}{2} \\pstate{000} + \\frac{1}{2} \\pstate{\\mathbf{\\color{red}{1}}1\\mathbf{\\color{blue}{0}}} \\rightarrow \\frac{1}{2} \\pstate{000} + \\frac{1}{2}\\pstate{\\mathbf{\\color{red}{1}}1\\mathbf{\\color{blue}{1}}} $."
   ]
  },
  {
   "cell_type": "markdown",
   "metadata": {},
   "source": [
    "<a id=\"task8\"></a>\n",
    "<h3> Task 8 </h3>\n",
    "\n",
    "Suppose that Daria had a 10 cent in state 1, and its coin is also combined with the composite system.\n",
    "\n",
    "What is the state of the new composite system?\n",
    "\n",
    "Then, CNOT operator is applied to Curie's coin and Daria's coin, where Curie's coin is the control bit.\n",
    "\n",
    "What is the new state of the composite system after this CNOT operator?\n",
    "\n",
    "<i>Observe that the correlation with a new bit can be created by applying a CNOT gate between any bit already in the correlation and the new bit, where the new bit is the target one.</i>"
   ]
  },
  {
   "cell_type": "markdown",
   "metadata": {},
   "source": [
    "<h3>Solution</h3>\n",
    "\n",
    "The state of the new composite system is\n",
    "\n",
    "$ \\mypar{ \\frac{1}{2} \\pstate{000} + \\frac{1}{2} \\pstate{111} } \\otimes \\pstate{1} = \\frac{1}{2} \\pstate{0001} + \\frac{1}{2} \\pstate{1111}  $.\n",
    "\n",
    "\n",
    "After applying CNOT defined on the third bit (control) and fourth bit (target):\n",
    "\n",
    "$ \\frac{1}{2} \\pstate{0001} + \\frac{1}{2} \\pstate{11\\mathbf{\\color{red}{1}}\\mathbf{\\color{blue}{1}}} \\rightarrow \\frac{1}{2} \\pstate{0001} + \\frac{1}{2}\\pstate{11\\mathbf{\\color{red}{1}}\\mathbf{\\color{blue}{0}}} $.\n",
    "\n",
    "Now, all four bits are correlated. By seeing the state of any bit, we can know the states of the other bits."
   ]
  }
 ],
 "metadata": {
  "kernelspec": {
   "display_name": "Python 3 (ipykernel)",
   "language": "python",
   "name": "python3"
  },
  "language_info": {
   "codemirror_mode": {
    "name": "ipython",
    "version": 3
   },
   "file_extension": ".py",
   "mimetype": "text/x-python",
   "name": "python",
   "nbconvert_exporter": "python",
   "pygments_lexer": "ipython3",
   "version": "3.13.5"
  }
 },
 "nbformat": 4,
 "nbformat_minor": 4
}
