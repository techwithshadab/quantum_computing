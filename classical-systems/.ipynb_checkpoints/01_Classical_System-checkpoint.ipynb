{
 "cells": [
  {
   "cell_type": "markdown",
   "id": "c8e31748-2b6a-4643-b7a3-64d40e3e474a",
   "metadata": {},
   "source": [
    "## One Bit"
   ]
  },
  {
   "cell_type": "markdown",
   "id": "0c1a8ff7-d303-4dd8-a222-a5b5e631e832",
   "metadata": {},
   "source": [
    "In daily life, we use decimal number system. It is also called base-10 system, because we have 10 digits:\n",
    "\n",
    "$ 0,~1,~2,~3,~4,~5,~6,~7,~8, \\mbox{ and } 9  $.\n",
    "\n",
    "In computer science, on the other hand, the widely used system is binary, which has only two digits:\n",
    "\n",
    "$ 0 $ and $ 1 $.\n",
    "\n",
    "Bit (or binary digit) is the basic unit of information used in computer science and information theory. \n",
    "\n",
    "It can also be seen as the smallest \"useful\" memory unit, which has two states named 0 and 1. \n",
    "\n",
    "At any moment, a bit can be in either state 0 or state 1."
   ]
  },
  {
   "cell_type": "markdown",
   "id": "f9c33a8c-2a90-4362-b3a2-53579eab5ee7",
   "metadata": {},
   "source": [
    "<h3> Four operators </h3>\n",
    "\n",
    "How many different operators can be defined on a single bit?\n",
    "\n",
    "<i>An operator, depending on the current state of the bit, updates the state of bit (the result may be the same state).</i> \n",
    "\n",
    "We can apply four different operators to a single bit:\n",
    "<ol>\n",
    "    <li> Identity: $ I(0) = 0 $ and $ I(1) = 1 $ </li>\n",
    "    <li> Negation: $ NOT(0) = 1 $ and $ NOT(1) = 0 $ </li>\n",
    "    <li> Constant (Zero): $ ZERO(0) = 0 $ and $ ZERO(1) = 0 $ </li>\n",
    "    <li> Constant (One): $ ONE(0) = 1 $ and $ ONE(1) = 1 $ </li>\n",
    "</ol>\n",
    "The first operator is called IDENTITY, because it does not change the content/value of the bit.\n",
    "\n",
    "The second operator is named NOT, because it negates (flips) the value of bit. \n",
    "\n",
    "<i>Remark that 0 and 1 also refer to Boolean values False and True, respectively, and, False is the negation of True, and True is the negation of False.</i>\n",
    "\n",
    "The third (resp., fourth) operator returns a constant value 0 (resp., 1), whatever the input is."
   ]
  },
  {
   "cell_type": "markdown",
   "id": "7fa73acc-36cd-4757-b460-36cf67356b9e",
   "metadata": {},
   "source": [
    "<h3> Table representation </h3>\n",
    "\n",
    "In our representations, the direction of the transitions are from the top to the left, i.e., the initial states are on the top and the final states are on the left:\n",
    "\n",
    "$\n",
    "    \\begin{array}{c|c}\n",
    "        & initial~states \\\\ \\hline\n",
    "        final~states&\\hookleftarrow\n",
    "    \\end{array}\n",
    "$\n",
    "\n",
    "We can represent the transitions of each operator by a table:\n",
    "\n",
    "$\n",
    "I = \\begin{array}{lc|cc} \n",
    "     & & initial & states \\\\ \n",
    "    & \\hookleftarrow & \\mathbf{0} & \\mathbf{1} \\\\ \\hline \n",
    "    final & \\mathbf{0} & \\mbox{goes-to} & \\emptyset \\\\  \n",
    "    states & \\mathbf{1} & \\emptyset & \\mbox{goes-to}  \\end{array} ,\n",
    "$\n",
    "where \n",
    "- the header (first row) represents the initial values, and\n",
    "- the first column represents the final values.\n",
    "\n",
    "\n",
    "\n",
    "We can also define the transitions numerically:\n",
    "- we use 1 if there is a transition between two states, and, \n",
    "- we use 0 if there is no transition between two states.\n",
    "\n",
    "$\n",
    "I = \\begin{array}{lc|cc} \n",
    "    & & initial & states \\\\ \n",
    "    & \\hookleftarrow & \\mathbf{0} & \\mathbf{1} \\\\ \\hline \n",
    "    final & \\mathbf{0} & 1 & 0 \\\\  \n",
    "    states & \\mathbf{1} & 0 & 1  \\end{array}\n",
    "$"
   ]
  },
  {
   "cell_type": "markdown",
   "id": "ba9ce4e6-5db2-44b9-953a-d0f767e0b8a8",
   "metadata": {},
   "source": [
    "The values in <b>bold</b> are the initial and final values of the bits. The non-bold values represent the transitions.\n",
    "<ul>\n",
    "    <li> The top-left non-bold 1 represents the transtion $ 0 \\rightarrow 0 $. </li>\n",
    "    <li> The bottom-right non-bold 1 represents the transtion $ 1 \\rightarrow 1 $. </li> \n",
    "    <li> The top-right non-bold 0 means that there is no transition from 1 to 0. </li>\n",
    "    <li> The bottom-left non-bold 0 means that there is no transition from 0 to 1. </li>\n",
    "</ul>\n",
    "The reader may think that the values 0 and 1 are representing the transitions as False (Off) and True (On), respectively. \n",
    "\n",
    "Similarly, we can represent the other operators as below:\n",
    "\n",
    "$\n",
    "NOT = \\begin{array}{lc|cc} & & initial & states \\\\ & \\hookleftarrow & \\mathbf{0} & \\mathbf{1} \\\\ \\hline final & \\mathbf{0} & 0 & 1 \\\\  \n",
    "    states & \\mathbf{1} & 1 & 0  \\end{array}\n",
    "~~~\n",
    "ZERO = \\begin{array}{lc|cc} & & initial & states \\\\ & \\hookleftarrow & \\mathbf{0} & \\mathbf{1} \\\\ \\hline final & \\mathbf{0} & 1 & 1 \\\\  \n",
    "    states & \\mathbf{1} & 0 & 0  \\end{array}\n",
    "~~~\n",
    "ONE = \\begin{array}{lc|cc} & & initial & states \\\\ & \\hookleftarrow & \\mathbf{0} & \\mathbf{1} \\\\ \\hline final & \\mathbf{0} & 0 & 0 \\\\  \n",
    "    states & \\mathbf{1} & 1 & 1  \\end{array}\n",
    ".\n",
    "$"
   ]
  },
  {
   "cell_type": "markdown",
   "id": "26d9919d-18e2-4752-9838-671f2d432176",
   "metadata": {},
   "source": [
    "<h3> Task 1 </h3>\n",
    "\n",
    "Convince yourself with the correctness of each table.\n",
    "\n",
    "Remember that the direction of the transitions are from the top to the left:\n",
    "\n",
    "$\n",
    "    \\begin{array}{c|c}\n",
    "        & initial~states \\\\ \\hline\n",
    "        final~states&\\hookleftarrow\n",
    "    \\end{array}\n",
    "$"
   ]
  },
  {
   "cell_type": "markdown",
   "id": "b968126f-07fa-45bb-b4fd-1f2b53e702b1",
   "metadata": {},
   "source": [
    "<h3> Reversibility and Irreversibility </h3>\n",
    "\n",
    "After applying Identity or NOT operator, we can easily determine the initial value by checking the final value. \n",
    "<ul>\n",
    "    <li> In the case of Identity operator, we simply say the same value. </li>\n",
    "    <li> In the case of NOT operator, we simply say the other value, i.e., if the final value is 0 (resp., 1), then we say 1 (resp., 0). </li>\n",
    "</ul>\n",
    "\n",
    "However, we cannot know the initial value by checking the final value after applying ZERO or ONE operator. \n",
    "\n",
    "Based on this observation, we can classify the operators into two types: <i>Reversible</i> and <i>Irreversible</i>.\n",
    "<ul>\n",
    "    <li> If we can recover the initial value(s) from the final value(s), then the operator is called reversible like Identity and NOT operators. </li>\n",
    "    <li> If we cannot know the initial value(s) from the final value(s), then the operator is called irreversible like ZERO and ONE operators. </li>\n",
    "</ul>\n",
    "\n",
    "<b> This classification is important, as the quantum evolution operators are reversible </b> (as long as the system is closed).\n",
    "\n",
    "The Identity and NOT operators are two fundamental quantum operators."
   ]
  },
  {
   "cell_type": "markdown",
   "id": "779fb00a-c44a-4178-aeea-512d25fb53e7",
   "metadata": {},
   "source": [
    "## Coin Flip: A Probabilistic Bit"
   ]
  },
  {
   "cell_type": "markdown",
   "id": "05064d00-3bc8-4fc5-b6ce-252f873aee58",
   "metadata": {},
   "source": [
    "<h3> A fair coin </h3>\n",
    "\n",
    "A coin has two sides: <i>Heads</i> and <i>Tails</i>.\n",
    "\n",
    "After flipping a coin, we get either Heads or Tails. We can represent these two different cases by a single bit:\n",
    "<ul>\n",
    "    <li> 0 represents Heads </li>\n",
    "    <li> 1 represents Tails </li>\n",
    "</ul>"
   ]
  },
  {
   "cell_type": "markdown",
   "id": "cd671bc1-774a-4a4a-bd1f-e343c73695ba",
   "metadata": {},
   "source": [
    "<h3> Flipping a fair coin </h3>\n",
    "\n",
    "If our coin is fair, then the probabilities of getting Heads and Tails are equal:\n",
    "\n",
    "$ p= \\dfrac{1}{2} = 0.5 $.\n",
    "\n",
    "Flipping a fair coin can be represented as an operator:\n",
    "<ul>\n",
    "    <li> $ FairCoin(Heads) = \\frac{1}{2} Heads + \\frac{1}{2}Tails $ </li>\n",
    "    <li> $ FairCoin(Tails) \\mspace{10mu} = \\frac{1}{2} Heads + \\frac{1}{2}Tails $ </li>\n",
    "</ul>\n",
    "\n",
    "Here is its table representation:\n",
    "\n",
    "$\n",
    "FairCoin = \\begin{array}{c|cc} \\hookleftarrow & \\mathbf{Heads} & \\mathbf{Tails} \\\\ \\hline \\mathbf{Heads} & \\dfrac{1}{2} & \\dfrac{1}{2} \\\\  \\mathbf{Tails} & \\dfrac{1}{2} & \\dfrac{1}{2}  \\end{array} \n",
    "$\n",
    "\n",
    "Here is the same table by using 0 and 1 as the states:\n",
    "\n",
    "$\n",
    "FairCoin = \\begin{array}{c|cc} \\hookleftarrow & \\mathbf{0} & \\mathbf{1} \\\\ \\hline \\mathbf{0} & \\dfrac{1}{2} & \\dfrac{1}{2} \\\\  \\mathbf{1} & \\dfrac{1}{2} & \\dfrac{1}{2}  \\end{array} \n",
    "$"
   ]
  },
  {
   "cell_type": "markdown",
   "id": "64eb601e-758b-4517-90de-ff8c7ddbb9c3",
   "metadata": {},
   "source": [
    "<h3> Task 1: Simulating FairCoin in Python</h3>\n",
    "\n",
    "Flip a fair coin 100 times. Calculate the total number of heads and tails, and then check the ratio of the number of heads and the number of tails.\n",
    "\n",
    "Do the same experiment 1000 times.\n",
    "\n",
    "Do the same experiment 10,000 times.\n",
    "\n",
    "Do the same experiment 100,000 times.\n",
    "\n",
    "Do your results get close to the ideal case (the numbers of heads and tails are equal)?"
   ]
  },
  {
   "cell_type": "code",
   "execution_count": 2,
   "id": "49f605ef-bf10-423d-8d9f-429a1498d2ce",
   "metadata": {},
   "outputs": [
    {
     "name": "stdout",
     "output_type": "stream",
     "text": [
      "experiment: 100\n",
      "heads = 55   tails =  45\n",
      "the ratio of #heads/#tails is 1.2222\n",
      "\n",
      "experiment: 1000\n",
      "heads = 507   tails =  493\n",
      "the ratio of #heads/#tails is 1.0284\n",
      "\n",
      "experiment: 10000\n",
      "heads = 5055   tails =  4945\n",
      "the ratio of #heads/#tails is 1.0222\n",
      "\n",
      "experiment: 100000\n",
      "heads = 50231   tails =  49769\n",
      "the ratio of #heads/#tails is 1.0093\n",
      "\n"
     ]
    }
   ],
   "source": [
    "from random import randrange\n",
    "\n",
    "for experiment in [100,1000,10000,100000]:\n",
    "    heads = tails = 0\n",
    "    for i in range(experiment):\n",
    "        if randrange(2) == 0: heads = heads + 1\n",
    "        else: tails = tails + 1\n",
    "    print(\"experiment:\",experiment)\n",
    "    print(\"heads =\",heads,\"  tails = \",tails)\n",
    "    print(\"the ratio of #heads/#tails is\",(round(heads/tails,4)))\n",
    "    print() # empty line"
   ]
  },
  {
   "cell_type": "markdown",
   "id": "0cac206f-187c-4282-b1ed-9fea1bf47d78",
   "metadata": {},
   "source": [
    "<h3> Flipping a biased coin </h3>\n",
    "\n",
    "Our coin may have a bias. \n",
    "\n",
    "For example, the probability of getting heads is greater than the probability of getting tails.\n",
    "\n",
    "Here is an example:\n",
    "\n",
    "$\n",
    "BiasedCoin = \\begin{array}{c|cc} \\hookleftarrow & \\mathbf{Heads} & \\mathbf{Tails} \\\\ \\hline \\mathbf{Heads} & 0.6 & 0.6 \\\\  \\mathbf{Tails} & 0.4 & 0.4  \\end{array}\n",
    "$\n",
    "\n",
    "By using 0 and 1 as the states:\n",
    "\n",
    "$\n",
    "BiasedCoin = \\begin{array}{c|cc} \\hookleftarrow & \\mathbf{0} & \\mathbf{1} \\\\ \\hline \\mathbf{0} & 0.6 & 0.6\\\\  \\mathbf{1} & 0.4 & 0.4 \\end{array}\n",
    "$"
   ]
  },
  {
   "cell_type": "markdown",
   "id": "570bc6f5-8a05-4ef3-bd79-44caf28e3115",
   "metadata": {},
   "source": [
    "<a id=\"task2\"></a>\n",
    "<h3> Task 2: Simulating BiasedCoin in Python</h3>\n",
    "\n",
    "Flip the following biased coin 100 times. Calcuate the total numbers of heads and tails, and then check the ratio of the number of heads and the number of tails.\n",
    "\n",
    "$\n",
    "BiasedCoin = \\begin{array}{c|cc} \\hookleftarrow & \\mathbf{Head} & \\mathbf{Tail} \\\\ \\hline \\mathbf{Head} & 0.6 & 0.6 \\\\  \\mathbf{Tail} & 0.4 & 0.4  \\end{array}\n",
    "$\n",
    "\n",
    "\n",
    "Do the same experiment 1000 times.\n",
    "\n",
    "Do the same experiment 10,000 times.\n",
    "\n",
    "Do the same experiment 100,000 times.\n",
    "\n",
    "Do your results get close to the ideal case $ \\mypar{ \\dfrac{ \\mbox{\\# of heads} }{ \\mbox{\\# of tails} } = \\dfrac{0.6}{0.4} = 1.50000000 } $?"
   ]
  },
  {
   "cell_type": "code",
   "execution_count": 3,
   "id": "389217e8-8a3f-4aaf-983d-a9102fe1f28e",
   "metadata": {},
   "outputs": [
    {
     "name": "stdout",
     "output_type": "stream",
     "text": [
      "experiment: 100\n",
      "heads = 62   tails =  38\n",
      "the ratio of #heads/#tails is 1.6316\n",
      "\n",
      "experiment: 1000\n",
      "heads = 601   tails =  399\n",
      "the ratio of #heads/#tails is 1.5063\n",
      "\n",
      "experiment: 10000\n",
      "heads = 5941   tails =  4059\n",
      "the ratio of #heads/#tails is 1.4637\n",
      "\n",
      "experiment: 100000\n",
      "heads = 59800   tails =  40200\n",
      "the ratio of #heads/#tails is 1.4876\n",
      "\n"
     ]
    }
   ],
   "source": [
    "from random import randrange\n",
    "\n",
    "# let's pick a random number between {0,1,...,99}\n",
    "# it is expected to be less than 60 with probability 0.6\n",
    "#     and greater than or equal to 60 with probability 0.4\n",
    "\n",
    "for experiment in [100,1000,10000,100000]:\n",
    "    heads = tails = 0\n",
    "    for i in range(experiment):\n",
    "        if randrange(100) <60: heads = heads + 1 # with probability 0.6\n",
    "        else: tails = tails + 1 # with probability 0.4\n",
    "    print(\"experiment:\",experiment)\n",
    "    print(\"heads =\",heads,\"  tails = \",tails)\n",
    "    print(\"the ratio of #heads/#tails is\",(round(heads/tails,4)))\n",
    "    print() # empty line"
   ]
  },
  {
   "cell_type": "markdown",
   "id": "b321cf45-6b24-42be-a072-5b3f9cb78f30",
   "metadata": {},
   "source": [
    "---\n",
    "\n",
    "<h3> Extra: Programming a biased coin </h3>\n",
    "\n",
    "We use a simple method to create a biased coin.\n",
    "\n",
    "First, we pick a range for the precision of probabilities, say $ N $, as $ N = 11, 101, 1001, \\mbox{ or }, 10^k+1 $ for some $ k > 3 $.\n",
    "\n",
    "Second, we pick the bias, say $ B $, as an integer in $ \\{0,\\ldots,N\\} $.\n",
    "\n",
    "We fix $ N $ and $ B $.\n",
    "\n",
    "Third, we pick a random integer in $ \\{0,1,\\ldots,N-1\\} $:\n",
    "<ul>\n",
    "    <li> if it is less than $ B $, we output \"Heads\" and </li>\n",
    "    <li> if it is equal to or greater than $ B $, we output \"Tails\" </li>\n",
    "</ul>\n",
    "    \n",
    "In this way, we have a biased coin \"landing on\" heads with probability $ \\frac{B}{N} $ including 0 and 1.\n",
    "\n",
    "Remark that we pick $ N = 10^k+1 $ as an odd number. In this way, the coin cannot be fair as long as $ B $ is an integer. Because, the half of an odd integer is not an integer."
   ]
  },
  {
   "cell_type": "markdown",
   "id": "c10a3091-e391-4d76-85ed-d02e5f98653c",
   "metadata": {},
   "source": [
    "<h3> Task 3 </h3>\n",
    "\n",
    "Write a function to implement the described biased coin,\n",
    "\n",
    "The inputs are integers $N>0$ and $ B \\in \\{0,\\ldots,N\\} $.\n",
    "\n",
    "The output is either \"Heads\" or \"Tails\"."
   ]
  },
  {
   "cell_type": "code",
   "execution_count": 4,
   "id": "60acb33e-0046-48ab-8dcf-90fe18d9b774",
   "metadata": {},
   "outputs": [],
   "source": [
    "def biased_coin(N,B):\n",
    "    from random import randrange\n",
    "    random_number = randrange(N)\n",
    "    if random_number < B:\n",
    "        return \"Heads\"\n",
    "    else:\n",
    "        return \"Tails\""
   ]
  },
  {
   "cell_type": "markdown",
   "id": "d64e9063-e83a-437d-ad5d-29462aa962c8",
   "metadata": {},
   "source": [
    "<h3> Task 4</h3>\n",
    "\n",
    "We use the biased coin described in Task 3. \n",
    "\n",
    "(You may use the function given <a href=\"CS08_Coin_Flip_Solutions.ipynb#task3\">in the solution</a>.)\n",
    "\n",
    "We pick $ N $ as 101.\n",
    "\n",
    "Our task is to determine the value of $ B $ experimentially without looking its value directly.\n",
    "\n",
    "Flip the (same) biased coin 500 times, collect the statistics, and then guess the bias.\n",
    "\n",
    "Compare your guess with the actual bias by calculating the relative error in percentage (the absolute value of the difference divided by the real bias)."
   ]
  },
  {
   "cell_type": "code",
   "execution_count": 5,
   "id": "a46f49d9-fdc1-47f9-89a7-70e9fadf6d64",
   "metadata": {},
   "outputs": [],
   "source": [
    "def biased_coin(N,B):\n",
    "    from random import randrange\n",
    "    random_number = randrange(N)\n",
    "    if random_number < B:\n",
    "        return \"Heads\"\n",
    "    else:\n",
    "        return \"Tails\""
   ]
  },
  {
   "cell_type": "code",
   "execution_count": 6,
   "id": "f0cef224-e7fa-4efd-9e42-de56c18763b4",
   "metadata": {},
   "outputs": [],
   "source": [
    "from random import randrange\n",
    "N = 101\n",
    "B = randrange(N+1)"
   ]
  },
  {
   "cell_type": "code",
   "execution_count": 7,
   "id": "1e84b9c2-56df-457e-a26e-aa4ae1df66ce",
   "metadata": {},
   "outputs": [
    {
     "name": "stdout",
     "output_type": "stream",
     "text": [
      "my guess is 0.964\n",
      "real bias is 0.9603960396039604\n",
      "error (%) is 0.3752577319587632\n"
     ]
    }
   ],
   "source": [
    "total_tosses = 500\n",
    "the_number_of_heads = 0\n",
    "for i in range(total_tosses):\n",
    "    if biased_coin(N,B) == \"Heads\":\n",
    "        the_number_of_heads = the_number_of_heads + 1\n",
    "\n",
    "my_guess =  the_number_of_heads/total_tosses        \n",
    "real_bias = B/N\n",
    "error = abs(my_guess-real_bias)/real_bias*100 \n",
    "\n",
    "print(\"my guess is\",my_guess)\n",
    "print(\"real bias is\",real_bias)\n",
    "print(\"error (%) is\",error)"
   ]
  },
  {
   "cell_type": "code",
   "execution_count": null,
   "id": "0e19836e-fc06-4952-bb07-23ae38e641ef",
   "metadata": {},
   "outputs": [],
   "source": []
  }
 ],
 "metadata": {
  "kernelspec": {
   "display_name": "Python 3 (ipykernel)",
   "language": "python",
   "name": "python3"
  },
  "language_info": {
   "codemirror_mode": {
    "name": "ipython",
    "version": 3
   },
   "file_extension": ".py",
   "mimetype": "text/x-python",
   "name": "python",
   "nbconvert_exporter": "python",
   "pygments_lexer": "ipython3",
   "version": "3.13.5"
  }
 },
 "nbformat": 4,
 "nbformat_minor": 5
}
