{
 "cells": [
  {
   "cell_type": "markdown",
   "metadata": {},
   "source": [
    "<font style=\"font-size:28px;\" align=\"left\"><b><font color=\"blue\"> Solutions for </font>Two Probabilistic Bits  </b></font>"
   ]
  },
  {
   "cell_type": "markdown",
   "metadata": {},
   "source": [
    "<a id=\"task2\"></a>\n",
    "<h3> Task 2 </h3>\n",
    "\n",
    "Find the probabilistic state of the composite system.\n",
    "\n",
    "<i> \n",
    "Rule 1: Tensor product distributes over addition in the same way as the distribution of multiplication over addition.\n",
    "\n",
    "Rule 2: $ \\big( 0.3 \\pstate{1} \\big) \\otimes \\big( 0.7 \\pstate{0} \\big) = (0.3 \\cdot 0.7) \\big( \\pstate{1} \\otimes \\pstate{0} \\big) = 0.21 \\pstate{10} $.\n",
    "</i>"
   ]
  },
  {
   "cell_type": "markdown",
   "metadata": {},
   "source": [
    "<h3>Solution</h3>\n",
    "\n",
    "The probabilistic state of the composite system is $ \\big( 0.2 \\pstate{0} + 0.8 \\pstate{1} \\big) \\otimes  \\big( 0.6 \\pstate{0} + 0.4 \\pstate{1} \\big) $.\n",
    "\n",
    "$ \\big( 0.2 \\pstate{0} + 0.8 \\pstate{1} \\big) \\otimes  \\big( 0.6 \\pstate{0} + 0.4 \\pstate{1} \\big) =   $\n",
    "\n",
    "$ 0.12 \\big( \\pstate{0} \\otimes \\pstate{0} \\big) + 0.08 \\big( \\pstate{0} \\otimes \\pstate{1} \\big) + 0.48 \\big( \\pstate{1} \\otimes \\pstate{0} \\big) + 0.32 \\big( \\pstate{1} \\otimes \\pstate{1} \\big) = $\n",
    "\n",
    "$ 0.12 \\pstate{00} + 0.08 \\pstate{01} + 0.48 \\pstate{10} + 0.32 \\pstate{11}. $"
   ]
  },
  {
   "cell_type": "markdown",
   "metadata": {},
   "source": [
    "<a id=\"task3\"></a>\n",
    "<h3> Task 3 </h3>\n",
    "\n",
    "Find the probabilistic state of the composite system by calculating this tensor product $ \\myvector{0.2 \\\\ 0.8} \\otimes \\myvector{0.6 \\\\ 0.4 } $."
   ]
  },
  {
   "cell_type": "markdown",
   "metadata": {},
   "source": [
    "<h3>Solution</h3>\n",
    "\n",
    " $ \\myvector{0.2 \\\\ 0.8} \\otimes \\myvector{0.6 \\\\ 0.4 } = \\myvector{ 0.2 \\myvector{0.6 \\\\ 0.4} \\\\ 0.8 \\myvector{0.6 \\\\ 0.4}  } = \\myvector{0.12 \\\\ 0.08 \\\\ 0.48 \\\\ 0.32} $."
   ]
  },
  {
   "cell_type": "markdown",
   "metadata": {},
   "source": [
    "<a id=\"task4\"></a>\n",
    "<h3> Task 4 </h3>\n",
    "\n",
    "Find the vector representations of $ \\pstate{00} $, $ \\pstate{01} $, $\\pstate{10}$, and $ \\pstate{11} $.\n",
    "\n",
    "<i>The vector representation of $ \\pstate{ab} $ is $ \\pstate{a} \\otimes \\pstate{b} $ for $ a,b \\in \\{0,1\\} $.</i>"
   ]
  },
  {
   "cell_type": "markdown",
   "metadata": {},
   "source": [
    "<h3>Solution</h3>\n",
    "\n",
    "$ \\pstate{00} = \\pstate{0} \\otimes \\pstate{0} = \\myvector{1 \\\\ 0} \\otimes \\myvector{1 \\\\ 0} =  \\myvector{1 \\myvector{1 \\\\ 0} \\\\ 0 \\myvector{1 \\\\ 0} }  = \\myvector{1 \\\\ 0 \\\\ 0 \\\\ 0} $.\n",
    "\n",
    "$ \\pstate{01} = \\pstate{0} \\otimes \\pstate{1} = \\myvector{1 \\\\ 0} \\otimes \\myvector{0 \\\\ 1} = \\myvector{1 \\myvector{0 \\\\ 1} \\\\ 0 \\myvector{0 \\\\ 1} }  = \\myvector{0 \\\\ 1 \\\\ 0 \\\\ 0} $.\n",
    "\n",
    "$ \\pstate{10} = \\pstate{1} \\otimes \\pstate{0} = \\myvector{0 \\\\ 1} \\otimes \\myvector{1 \\\\ 0} = \\myvector{0 \\myvector{1 \\\\ 0} \\\\ 1 \\myvector{1 \\\\ 0} }  = \\myvector{0 \\\\ 0 \\\\ 1 \\\\ 0} $.\n",
    "\n",
    "$ \\pstate{11} = \\pstate{1} \\otimes \\pstate{1} = \\myvector{0 \\\\ 1} \\otimes \\myvector{0 \\\\ 1} = \\myvector{0 \\myvector{0 \\\\ 1} \\\\ 1 \\myvector{0 \\\\ 1} }  = \\myvector{0 \\\\ 0 \\\\ 0 \\\\ 1} $."
   ]
  }
 ],
 "metadata": {
  "kernelspec": {
   "display_name": "Python 3 (ipykernel)",
   "language": "python",
   "name": "python3"
  },
  "language_info": {
   "codemirror_mode": {
    "name": "ipython",
    "version": 3
   },
   "file_extension": ".py",
   "mimetype": "text/x-python",
   "name": "python",
   "nbconvert_exporter": "python",
   "pygments_lexer": "ipython3",
   "version": "3.13.5"
  }
 },
 "nbformat": 4,
 "nbformat_minor": 4
}
