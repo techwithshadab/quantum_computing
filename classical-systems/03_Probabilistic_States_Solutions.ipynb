{
 "cells": [
  {
   "cell_type": "markdown",
   "metadata": {},
   "source": [
    "<font style=\"font-size:28px;\" align=\"left\"><b><font color=\"blue\"> Solutions for </font>Probabilistic States  </b></font>"
   ]
  },
  {
   "cell_type": "markdown",
   "metadata": {},
   "source": [
    "<a id=\"task2\"></a>\n",
    "<h3> Task 2 </h3>\n",
    "\n",
    "Suppose that Fyodor hiddenly rolls a loaded (tricky) dice with the bias \n",
    "\n",
    "$$ Pr(1):Pr(2):Pr(3):Pr(4):Pr(5):Pr(6) = 7:5:4:2:6:1 . $$\n",
    "\n",
    "Represent your information on the result as a column vector. Remark that the size of your column vector should be 6.\n",
    "\n",
    "You may use python for your calculations."
   ]
  },
  {
   "cell_type": "markdown",
   "metadata": {},
   "source": [
    "<h3>Solution</h3>"
   ]
  },
  {
   "cell_type": "code",
   "execution_count": null,
   "metadata": {},
   "outputs": [],
   "source": [
    "# all portions are stored in a list \n",
    "all_portions = [7,5,4,2,6,1];\n",
    "\n",
    "# calculate the total portions\n",
    "total_portion = 0\n",
    "for i in range(6):\n",
    "    total_portion = total_portion + all_portions[i]\n",
    "\n",
    "print(\"total is\",total_portion)\n",
    "\n",
    "# find the weight of one portion\n",
    "one_portion = 1/total_portion\n",
    "print(\"the weight of one portion is\",one_portion)\n",
    "\n",
    "print() # print an empty line\n",
    "# now we can calculate the probabilities of getting 1,2,3,4,5, or 6\n",
    "for i in range(6):\n",
    "    print(\"the probability of getting\",(i+1),\"is\",(one_portion*all_portions[i]))"
   ]
  },
  {
   "cell_type": "markdown",
   "metadata": {},
   "source": [
    "<a id=\"task3\"></a>\n",
    "<h3> Task 3 </h3>\n",
    "\n",
    "For a system with 4 states, randomly create a probabilistic state, and print its entries, e.g., $ 0.16~~0.17~~0.02~~0.65 $.\n",
    "\n",
    "<i>Hint: You may pick your random numbers between 0 and 100 (or 1000), and then normalize each value by dividing the summation of all numbers.</i>"
   ]
  },
  {
   "cell_type": "markdown",
   "metadata": {},
   "source": [
    "<h3>Solution</h3>"
   ]
  },
  {
   "cell_type": "code",
   "execution_count": null,
   "metadata": {},
   "outputs": [],
   "source": [
    "# we randomly create a probabilistic state\n",
    "#\n",
    "# we should be careful about two things:\n",
    "#     1. a probability value must be between 0 and 1\n",
    "#     2. the total probability must be 1\n",
    "#\n",
    "\n",
    "\n",
    "# we use a list of size 4\n",
    "# initial values are zeros\n",
    "my_state = [0,0,0,0]\n",
    "normalization_factor = 0 # this will be the summation of four values\n",
    "\n",
    "# we pick for random values between 0 and 100\n",
    "from random import randrange\n",
    "while normalization_factor==0: # the normalization factor cannot be zero\n",
    "    for i in range(4):\n",
    "        my_state[i] = randrange(101) # pick a random value between 0 and (101-1)\n",
    "        normalization_factor += my_state[i]\n",
    "        \n",
    "print(\"the random values before the normalization\",my_state)\n",
    "\n",
    "# normalize each value\n",
    "for i in range(4): my_state[i] = my_state[i]/normalization_factor\n",
    "    \n",
    "print(\"the random values after the normalization\",my_state)  \n",
    "\n",
    "#  find their summation\n",
    "sum = 0\n",
    "for i in range(4): sum += my_state[i]\n",
    "\n",
    "print(\"the summation is\",sum)"
   ]
  },
  {
   "cell_type": "code",
   "execution_count": null,
   "metadata": {},
   "outputs": [],
   "source": []
  }
 ],
 "metadata": {
  "kernelspec": {
   "display_name": "Python 3 (ipykernel)",
   "language": "python",
   "name": "python3"
  },
  "language_info": {
   "codemirror_mode": {
    "name": "ipython",
    "version": 3
   },
   "file_extension": ".py",
   "mimetype": "text/x-python",
   "name": "python",
   "nbconvert_exporter": "python",
   "pygments_lexer": "ipython3",
   "version": "3.13.5"
  }
 },
 "nbformat": 4,
 "nbformat_minor": 4
}
