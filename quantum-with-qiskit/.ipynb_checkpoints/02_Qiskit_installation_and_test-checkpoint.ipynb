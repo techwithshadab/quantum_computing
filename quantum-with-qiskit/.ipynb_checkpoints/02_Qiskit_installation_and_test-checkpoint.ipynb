{
 "cells": [
  {
   "cell_type": "markdown",
   "metadata": {},
   "source": [
    "<font style=\"font-size:28px;\" align=\"left\"><b> Qiskit installation and test </b></font>"
   ]
  },
  {
   "cell_type": "markdown",
   "metadata": {},
   "source": [
    "- [Check your system](#check)\n",
    "- [Install qiskit](#install)\n",
    "- [Tips](#tips)\n",
    "- [Execute an example quantum program](#test)\n",
    "- [Complete test](#complete)"
   ]
  },
  {
   "cell_type": "markdown",
   "metadata": {},
   "source": [
    "<hr id=\"check\">\n",
    "\n",
    "### Check your system\n",
    "\n",
    "Check your system, if Qiskit has already been installed:"
   ]
  },
  {
   "cell_type": "code",
   "execution_count": 1,
   "metadata": {},
   "outputs": [
    {
     "name": "stdout",
     "output_type": "stream",
     "text": [
      "The version of Qiskit is 2.1.1\n"
     ]
    }
   ],
   "source": [
    "import qiskit\n",
    "versions = qiskit.__version__\n",
    "print(\"The version of Qiskit is\",versions)"
   ]
  },
  {
   "cell_type": "markdown",
   "metadata": {},
   "source": [
    "**You should be able to see the version number of any library that is already installed in your system.**"
   ]
  },
  {
   "cell_type": "markdown",
   "metadata": {},
   "source": [
    "<hr id=\"install\">\n",
    "\n",
    "### Install qiskit\n",
    "\n",
    "(If you are an experienced user, visit this link: https://docs.quantum-computing.ibm.com/start/install)\n",
    "\n",
    "You can install Qiskit by executing the following cell:"
   ]
  },
  {
   "cell_type": "code",
   "execution_count": 2,
   "metadata": {},
   "outputs": [
    {
     "name": "stdout",
     "output_type": "stream",
     "text": [
      "zsh:1: 1.0 not found\n"
     ]
    }
   ],
   "source": [
    "!pip install \"qiskit[visualization]\">=1.0 --user"
   ]
  },
  {
   "cell_type": "code",
   "execution_count": 3,
   "metadata": {},
   "outputs": [
    {
     "name": "stdout",
     "output_type": "stream",
     "text": [
      "Requirement already satisfied: qiskit-aer in /opt/anaconda3/envs/elm/lib/python3.13/site-packages (0.17.1)\n",
      "Requirement already satisfied: qiskit>=1.1.0 in /opt/anaconda3/envs/elm/lib/python3.13/site-packages (from qiskit-aer) (2.1.1)\n",
      "Requirement already satisfied: numpy>=1.16.3 in /opt/anaconda3/envs/elm/lib/python3.13/site-packages (from qiskit-aer) (2.3.2)\n",
      "Requirement already satisfied: scipy>=1.0 in /opt/anaconda3/envs/elm/lib/python3.13/site-packages (from qiskit-aer) (1.16.1)\n",
      "Requirement already satisfied: psutil>=5 in /opt/anaconda3/envs/elm/lib/python3.13/site-packages (from qiskit-aer) (5.9.0)\n",
      "Requirement already satisfied: python-dateutil>=2.8.0 in /opt/anaconda3/envs/elm/lib/python3.13/site-packages (from qiskit-aer) (2.9.0.post0)\n",
      "Requirement already satisfied: six>=1.5 in /opt/anaconda3/envs/elm/lib/python3.13/site-packages (from python-dateutil>=2.8.0->qiskit-aer) (1.17.0)\n",
      "Requirement already satisfied: rustworkx>=0.15.0 in /opt/anaconda3/envs/elm/lib/python3.13/site-packages (from qiskit>=1.1.0->qiskit-aer) (0.17.1)\n",
      "Requirement already satisfied: dill>=0.3 in /opt/anaconda3/envs/elm/lib/python3.13/site-packages (from qiskit>=1.1.0->qiskit-aer) (0.4.0)\n",
      "Requirement already satisfied: stevedore>=3.0.0 in /opt/anaconda3/envs/elm/lib/python3.13/site-packages (from qiskit>=1.1.0->qiskit-aer) (5.4.1)\n",
      "Requirement already satisfied: typing-extensions in /opt/anaconda3/envs/elm/lib/python3.13/site-packages (from qiskit>=1.1.0->qiskit-aer) (4.12.2)\n",
      "Requirement already satisfied: pbr>=2.0.0 in /opt/anaconda3/envs/elm/lib/python3.13/site-packages (from stevedore>=3.0.0->qiskit>=1.1.0->qiskit-aer) (7.0.0)\n",
      "Requirement already satisfied: setuptools in /opt/anaconda3/envs/elm/lib/python3.13/site-packages (from pbr>=2.0.0->stevedore>=3.0.0->qiskit>=1.1.0->qiskit-aer) (78.1.1)\n"
     ]
    }
   ],
   "source": [
    "!pip install qiskit-aer --user"
   ]
  },
  {
   "cell_type": "markdown",
   "metadata": {},
   "source": [
    "__*Restart the kernel*__ (check \"Kernel\" menu) to apply the changes to the current notebook."
   ]
  },
  {
   "cell_type": "markdown",
   "metadata": {},
   "source": [
    "<hr id=\"tips\">\n",
    "\n",
    "### Tips\n",
    "\n",
    "_Any terminal/shell command can be executed in the notebook cells by putting an exclamation mark (!) at the beginning of the command._\n",
    "\n",
    "_$\\rightarrow$ To update Qiskit to the latest version, execute the following command in a code cell_\n",
    "\n",
    "    !pip install -U qiskit --user\n",
    "    \n",
    "_$\\rightarrow$ To uninstall Qiskit, execute the following command in a code cell_\n",
    "\n",
    "    !pip uninstall qiskit"
   ]
  },
  {
   "cell_type": "code",
   "execution_count": 4,
   "metadata": {},
   "outputs": [],
   "source": [
    "#!pip install -U qiskit --user\n",
    "#!pip uninstall qiskit"
   ]
  },
  {
   "cell_type": "markdown",
   "metadata": {},
   "source": [
    "<hr id=\"test\">\n",
    "\n",
    "### Execute an example quantum program\n"
   ]
  },
  {
   "cell_type": "markdown",
   "metadata": {},
   "source": [
    "1) Create a quantum circuit"
   ]
  },
  {
   "cell_type": "code",
   "execution_count": 5,
   "metadata": {},
   "outputs": [
    {
     "name": "stdout",
     "output_type": "stream",
     "text": [
      "The execution of the cell was completed, and the circuit was created :)\n"
     ]
    }
   ],
   "source": [
    "# import the objects from qiskit\n",
    "from qiskit import QuantumRegister, ClassicalRegister, QuantumCircuit\n",
    "from qiskit_aer import AerSimulator\n",
    "from random import randrange\n",
    "\n",
    "# create a quantum circuit and its register objects\n",
    "qreg = QuantumRegister(2) # quantum register with two quantum bits\n",
    "creg = ClassicalRegister(2) # classical register with two classical bit\n",
    "circuit = QuantumCircuit(qreg,creg) # quantum circuit composed by a quantum register and a classical register\n",
    "\n",
    "# apply a Hadamard gate to the first qubit\n",
    "circuit.h(qreg[0])\n",
    "\n",
    "# set the second qubit to state |1>\n",
    "circuit.x(qreg[1])\n",
    "\n",
    "# apply CNOT(first_qubit,second_qubit)\n",
    "circuit.cx(qreg[0],qreg[1])\n",
    "\n",
    "# measure the both qubits\n",
    "circuit.measure(qreg,creg)\n",
    "\n",
    "print(\"The execution of the cell was completed, and the circuit was created :)\")"
   ]
  },
  {
   "cell_type": "markdown",
   "metadata": {},
   "source": [
    "2) Draw the circuit\n",
    "\n",
    "_Run the cell once more if the figure is not shown_"
   ]
  },
  {
   "cell_type": "code",
   "execution_count": 6,
   "metadata": {},
   "outputs": [
    {
     "data": {
      "image/png": "[encoded data removed]",
      "text/plain": [
       "<Figure size 472.545x284.278 with 1 Axes>"
      ]
     },
     "execution_count": 6,
     "metadata": {},
     "output_type": "execute_result"
    }
   ],
   "source": [
    "# draw circuit \n",
    "circuit.draw(output='mpl')\n",
    "\n",
    "# the output will be a \"matplotlib.Figure\" object"
   ]
  },
  {
   "cell_type": "markdown",
   "metadata": {},
   "source": [
    "3) Execute the circuit 1024 times in the local simulator and print the observed the outcomes"
   ]
  },
  {
   "cell_type": "code",
   "execution_count": 7,
   "metadata": {},
   "outputs": [
    {
     "name": "stdout",
     "output_type": "stream",
     "text": [
      "{'01': 532, '10': 492}\n"
     ]
    }
   ],
   "source": [
    "## execute the circuit 1024 times\n",
    "job = AerSimulator().run(circuit,shots=1024)\n",
    "# get the result\n",
    "counts = job.result().get_counts(circuit)\n",
    "print(counts)"
   ]
  },
  {
   "cell_type": "markdown",
   "metadata": {},
   "source": [
    "<hr id=\"complete\">\n",
    "\n",
    "### Complete test\n",
    "\n",
    "Here we put all methods and objects of Qiskit used througout this tutorial (see [Qiskit: Quick Reference](Q01_Qiskit_Reference.ipynb) for a complete list).\n",
    "\n",
    "By running the cell below, you should be able to test whether your Qiskit installation is ready for our tutorial.\n",
    "\n",
    "_It was tested with Qiskit 1.0.0 on April 12, 2024._"
   ]
  },
  {
   "cell_type": "code",
   "execution_count": 12,
   "metadata": {},
   "outputs": [
    {
     "data": {
      "text/html": [
       "<pre style=\"word-wrap: normal;white-space: pre;background: #fff0;line-height: 1.1;font-family: &quot;Courier New&quot;,Courier,monospace\">                 ┌───┐┌───────────────┐┌───┐ ░ ┌─┐            \n",
       "q_0: ────────────┤ X ├┤ U(2π/7,0,0,0) ├┤ X ├─░─┤M├────────────\n",
       "        ┌───┐    └─┬─┘└───────┬───────┘└─┬─┘ ░ └╥┘┌─┐         \n",
       "q_1: ───┤ H ├──────■──────────■──────────■───░──╫─┤M├─────────\n",
       "        ├───┤                            │   ░  ║ └╥┘┌─┐      \n",
       "q_2: ───┤ X ├────────────────────────────■───░──╫──╫─┤M├──────\n",
       "     ┌──┴───┴───┐                            ░  ║  ║ └╥┘┌─┐   \n",
       "q_3: ┤ Ry(2π/7) ├────────────────────────────░──╫──╫──╫─┤M├───\n",
       "     └──┬───┬───┘                            ░  ║  ║  ║ └╥┘┌─┐\n",
       "q_4: ───┤ Z ├────────────────────────────────░──╫──╫──╫──╫─┤M├\n",
       "        └───┘                                ░  ║  ║  ║  ║ └╥┘\n",
       "c: 5/═══════════════════════════════════════════╩══╩══╩══╩══╩═\n",
       "                                                3  1  4  0  2 </pre>"
      ],
      "text/plain": [
       "                 ┌───┐┌───────────────┐┌───┐ ░ ┌─┐            \n",
       "q_0: ────────────┤ X ├┤ U(2π/7,0,0,0) ├┤ X ├─░─┤M├────────────\n",
       "        ┌───┐    └─┬─┘└───────┬───────┘└─┬─┘ ░ └╥┘┌─┐         \n",
       "q_1: ───┤ H ├──────■──────────■──────────■───░──╫─┤M├─────────\n",
       "        ├───┤                            │   ░  ║ └╥┘┌─┐      \n",
       "q_2: ───┤ X ├────────────────────────────■───░──╫──╫─┤M├──────\n",
       "     ┌──┴───┴───┐                            ░  ║  ║ └╥┘┌─┐   \n",
       "q_3: ┤ Ry(2π/7) ├────────────────────────────░──╫──╫──╫─┤M├───\n",
       "     └──┬───┬───┘                            ░  ║  ║  ║ └╥┘┌─┐\n",
       "q_4: ───┤ Z ├────────────────────────────────░──╫──╫──╫──╫─┤M├\n",
       "        └───┘                                ░  ║  ║  ║  ║ └╥┘\n",
       "c: 5/═══════════════════════════════════════════╩══╩══╩══╩══╩═\n",
       "                                                3  1  4  0  2 "
      ]
     },
     "metadata": {},
     "output_type": "display_data"
    },
    {
     "data": {
      "image/png": "[encoded data removed]",
      "text/plain": [
       "<Figure size 1959.72x535.111 with 1 Axes>"
      ]
     },
     "metadata": {},
     "output_type": "display_data"
    },
    {
     "name": "stdout",
     "output_type": "stream",
     "text": [
      "measurement outcomes are: {'11011': 16, '11010': 82, '10001': 85, '10000': 414, '10011': 75, '10010': 328}\n",
      "\n",
      "unitary matrix is\n",
      "[[ 0.   +0.j  0.   +0.j  0.532+0.j  0.847-0.j]\n",
      " [ 0.847+0.j -0.532+0.j  0.   +0.j  0.   +0.j]\n",
      " [ 0.532+0.j  0.847-0.j  0.   +0.j  0.   +0.j]\n",
      " [ 0.   +0.j  0.   +0.j  0.847+0.j -0.532+0.j]]\n",
      "\n",
      "quantum state is\n",
      "0.0+0.0j\n",
      "0.847+0.0j\n",
      "0.532+0.0j\n",
      "0.0+0.0j\n",
      "\n",
      "All looks fine :-)\n"
     ]
    }
   ],
   "source": [
    "from qiskit import QuantumRegister, ClassicalRegister, QuantumCircuit\n",
    "from qiskit_aer import AerSimulator, UnitarySimulator, StatevectorSimulator\n",
    "from math import pi\n",
    "\n",
    "# A quantum circuit is composed by a quantum and a classical register in Qiskit\n",
    "q = QuantumRegister(5,\"q\") # this quantum register has 5 qubits\n",
    "c = ClassicalRegister(5,\"c\") # this classical register has 5 classical bits\n",
    "\n",
    "qc = QuantumCircuit(q,c) # a quantum circuit with quantum and classical registers q and c\n",
    "\n",
    "qc.x(q[2]) # apply x-gate to the qubit \"q[2]\" of the quantum circuit \"qc\"\n",
    "qc.z(q[4]) # apply z-gate to the qubit \"q[4]\" of the quantum circuit \"qc\"\n",
    "qc.h(q[1]) # apply h-gate to the qubit \"q[1]\" of the quantum circuit \"qc\"\n",
    "\n",
    "a = pi/7\n",
    "qc.ry(2*a,q[3]) # apply ry-gate with the specified angle to the qubit \"q[3]\" of the quantum circuit \"qc\"\n",
    "\n",
    "qc.cx(q[1],q[0]) # apply cx-gate to the qubits \"q[1]\" and \"q[0]\" of the quantum circuit \"qc\"\n",
    "\n",
    "qc.cu(2*a,0,0,0,q[1],q[0]) # apply controlled rotation operator with the specified angle \n",
    "                          #  to the qubits \"q[1]\" and \"q[0]\" of the quantum circuit \"qc\"\n",
    "\n",
    "qc.ccx(q[2],q[1],q[0]) # apply ccx-gate to the qubits \"q[2]\", \"q[1]\", and \"q[0]\" of the quantum circuit \"qc\"\n",
    "\n",
    "qc.barrier()\n",
    "\n",
    "qc.measure(q[0],c[3]) # measure q[0] and write the output on c[3]\n",
    "qc.measure(q[1],c[1]) # measure q[1] and write the output on c[1]\n",
    "qc.measure(q[2],c[4]) # measure q[2] and write the output on c[4]\n",
    "qc.measure(q[3],c[0]) # measure q[3] and write the output on c[0]\n",
    "qc.measure(q[4],c[2]) # measure q[4] and write the output on c[2]\n",
    "\n",
    "display(qc.draw())\n",
    "\n",
    "qc.barrier()\n",
    "\n",
    "# qc.h(q[0]).c_if(c,5)\n",
    "with qc.if_test((c, 5)):\n",
    "    qc.h(q[0])\n",
    "# qc.x(q[0]).c_if(c,3)\n",
    "with qc.if_test((c, 3)):\n",
    "    qc.x(q[0])\n",
    "# qc.z(q[0]).c_if(c,1)\n",
    "with qc.if_test((c, 1)):\n",
    "    qc.z(q[0])\n",
    "\n",
    "for i in range(5):\n",
    "    if i % 2 ==0: qc.h(q[i])\n",
    "    else: qc.x(q[i])\n",
    "        \n",
    "b = 3*pi/11\n",
    "qc.cu(2*b,0,0,0,q[1],q[0])\n",
    "\n",
    "display(qc.draw(output='mpl',reverse_bits=True))\n",
    "\n",
    "job = AerSimulator().run(qc,shots=1000)\n",
    "counts = job.result().get_counts(qc)   \n",
    "print(\"measurement outcomes are:\",counts)\n",
    "print()\n",
    "\n",
    "q = QuantumRegister(2,\"q\")\n",
    "c = ClassicalRegister(2,\"c\")\n",
    "\n",
    "qc = QuantumCircuit(q,c)\n",
    "\n",
    "qc.h(q[0])\n",
    "qc.ry(a,q[0])\n",
    "qc.x(q[1])\n",
    "qc.cx(q[0],q[1])\n",
    "\n",
    "job = UnitarySimulator().run(qc,shots=1,optimization_level=0)\n",
    "precision = 3\n",
    "current_unitary=job.result().get_unitary(qc,precision).data\n",
    "\n",
    "print(\"unitary matrix is\")\n",
    "print(current_unitary)\n",
    "print()\n",
    "\n",
    "job = StatevectorSimulator().run(qc,optimization_level=0)\n",
    "precision = 3\n",
    "current_quantum_state=job.result().get_statevector(qc,precision).data\n",
    "print(\"quantum state is\")\n",
    "for val in current_quantum_state:\n",
    "    print(str(val.real)+\"+\"+str(val.imag)+\"j\")\n",
    "\n",
    "print()\n",
    "print(\"All looks fine :-)\")"
   ]
  },
  {
   "cell_type": "code",
   "execution_count": null,
   "metadata": {},
   "outputs": [],
   "source": []
  }
 ],
 "metadata": {
  "kernelspec": {
   "display_name": "Python 3 (ipykernel)",
   "language": "python",
   "name": "python3"
  },
  "language_info": {
   "codemirror_mode": {
    "name": "ipython",
    "version": 3
   },
   "file_extension": ".py",
   "mimetype": "text/x-python",
   "name": "python",
   "nbconvert_exporter": "python",
   "pygments_lexer": "ipython3",
   "version": "3.13.5"
  }
 },
 "nbformat": 4,
 "nbformat_minor": 4
}
