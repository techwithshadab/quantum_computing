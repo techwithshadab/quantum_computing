{
 "cells": [
  {
   "cell_type": "markdown",
   "metadata": {},
   "source": [
    "<font style=\"font-size:28px;\" align=\"left\"><b> Qiskit: Quick Reference </b></font>\n",
    "<br>\n",
    "_Updated with Qiskit 1.0.0 on April 12, 2024._"
   ]
  },
  {
   "cell_type": "markdown",
   "metadata": {},
   "source": [
    "<hr>\n",
    "<h3> Importing the main objects from qiskit </h3>"
   ]
  },
  {
   "cell_type": "code",
   "execution_count": 1,
   "metadata": {},
   "outputs": [],
   "source": [
    "from qiskit import QuantumRegister, ClassicalRegister, QuantumCircuit\n",
    "from qiskit_aer import AerSimulator, StatevectorSimulator, UnitarySimulator"
   ]
  },
  {
   "cell_type": "markdown",
   "metadata": {},
   "source": [
    "<hr>\n",
    "<h3>Creating a quantum circuit</h3>"
   ]
  },
  {
   "cell_type": "code",
   "execution_count": 6,
   "metadata": {},
   "outputs": [],
   "source": [
    "# A quantum circuit is composed by a quantum and a classical register in Qiskit\n",
    "q = QuantumRegister(5) # this quantum register has 5 qubits\n",
    "c = ClassicalRegister(5) # this classical register has 5 classical bits\n",
    "\n",
    "qc = QuantumCircuit(q,c) # a quantum circuit with quantum and classical registers q and c"
   ]
  },
  {
   "cell_type": "code",
   "execution_count": 7,
   "metadata": {},
   "outputs": [],
   "source": [
    "# You may label your registers (this is optional)\n",
    "q = QuantumRegister(3,\"qreg\")\n",
    "c = ClassicalRegister(3,\"creg\")"
   ]
  },
  {
   "cell_type": "code",
   "execution_count": 10,
   "metadata": {},
   "outputs": [],
   "source": [
    "# Build the circuit using the registers\n",
    "qc = QuantumCircuit(q, c)"
   ]
  },
  {
   "cell_type": "markdown",
   "metadata": {},
   "source": [
    "<hr>\n",
    "<h3>One qubit gates</h3>"
   ]
  },
  {
   "cell_type": "markdown",
   "metadata": {},
   "source": [
    "<h4> x-gate (NOT operator) </h4>\n",
    "\n",
    "$ X = \\mymatrix{cc}{0&1\\\\1&0} $ \n",
    "<br><br>"
   ]
  },
  {
   "cell_type": "code",
   "execution_count": 11,
   "metadata": {},
   "outputs": [
    {
     "data": {
      "text/plain": [
       "<qiskit.circuit.instructionset.InstructionSet at 0x10df20ca0>"
      ]
     },
     "execution_count": 11,
     "metadata": {},
     "output_type": "execute_result"
    }
   ],
   "source": [
    "qc.x(q[1]) # apply x-gate to the qubit \"q[2]\" of the quantum circuit \"qc\""
   ]
  },
  {
   "cell_type": "markdown",
   "metadata": {},
   "source": [
    "<h4> z-gate (Z operator) </h4>\n",
    "\n",
    "$ Z = \\mymatrix{rr}{1&0\\\\0&-1} $ \n",
    "<br><br>\n",
    "\n",
    "    qc.z(q[4]) # apply z-gate to the qubit \"q[4]\" of the quantum circuit \"qc\""
   ]
  },
  {
   "cell_type": "markdown",
   "metadata": {},
   "source": [
    "<h4> h-gate (Hadamard operator) </h4>\n",
    "\n",
    "$ H = \\hadamard $ \n",
    "<br><br>\n",
    "\n",
    "    qc.h(q[1]) # apply h-gate to the qubit \"q[1]\" of the quantum circuit \"qc\""
   ]
  },
  {
   "cell_type": "markdown",
   "metadata": {},
   "source": [
    "<h4> ry-gate (rotation operator) </h4>\n",
    "\n",
    "This is a rotation operator on a (real-valued) qubit in counter-clockwise direction.\n",
    "\n",
    "The matrix representing the rotation with angle $a$ on two-dimensional space:\n",
    "\n",
    "$ R(a) = \\mymatrix{rr}{\\cos(a) & -\\sin(a) \\\\ \\sin(a) & \\cos(a) } $ \n",
    "<br><br>\n",
    "\n",
    "    qc.ry(2*a,q[3]) # apply ry-gate with the specified angle to the qubit \"q[3]\" of the quantum circuit \"qc\"\n",
    "    \n",
    "_Remark that we pass the twice of the rotation angle for the rotations on the unit circle._"
   ]
  },
  {
   "cell_type": "markdown",
   "metadata": {},
   "source": [
    "<hr>\n",
    "<h3>Two-qubit gates</h3>\n",
    "\n",
    "Remark that, in Qiskit, when a quantum register has two qubits as $q[0]$ and $ q[1] $, then they are combined (tensored) as $ q[1] \\otimes q[0]. $"
   ]
  },
  {
   "cell_type": "markdown",
   "metadata": {},
   "source": [
    "<b>cx-gate (CNOT operator)</b>"
   ]
  },
  {
   "cell_type": "markdown",
   "metadata": {},
   "source": [
    "$ CNOT = \\mymatrix{cccc}{\\blackbit{1} & 0 & 0 & 0 \\\\ 0 & \\blackbit{1} & 0 & 0 \\\\ 0 & 0 & 0 & \\bluebit{1} \\\\ 0 & 0 & \\bluebit{1} & 0} . $\n",
    "<br><br>\n",
    "\n",
    "    # controller qubit is q[1] -- the first parameter\n",
    "    # target qubit is q[0] -- the second parameter\n",
    "    qc.cx(q[1],q[0]) # apply cx-gate to the qubits \"q[1]\" and \"q[0]\" of the quantum circuit \"qc\""
   ]
  },
  {
   "cell_type": "markdown",
   "metadata": {},
   "source": [
    "<b>cu-gate (controlled rotation operator)</b>\n",
    "\n",
    "We use this gate for controlled ry-gate in this tutorial."
   ]
  },
  {
   "cell_type": "markdown",
   "metadata": {},
   "source": [
    "$ \\mymatrix{cccc}{1 & 0 & 0 & 0 \\\\ 0 & 1 & 0 & 0  \\\\ 0 & 0 & \\cos a & -\\sin a \\\\ 0 & 0 & \\sin a & \\cos a} . $\n",
    "<br><br>\n",
    "\n",
    "    # controller qubit is q[1]\n",
    "    # target qubit is q[0]\n",
    "    qc.cu3(2*a,0,0,0,q[1],q[0]) # apply controlled rotation operator with the specified angle \n",
    "                              #  to the qubits \"q[1]\" and \"q[0]\" of the quantum circuit \"qc\""
   ]
  },
  {
   "cell_type": "markdown",
   "metadata": {},
   "source": [
    "<hr> \n",
    "<h3>Three-qubit gate</h3>\n",
    "\n",
    "Remark that, in Qiskit, when a quantum register has three qubits as $q[0], q[1], q[2] $, then they are combined (tensored) as $ q[2] \\otimes q[1] \\otimes q[0]. $"
   ]
  },
  {
   "cell_type": "markdown",
   "metadata": {},
   "source": [
    "<b>ccx-gate (Toffoli (CCNOT) operator)</b>"
   ]
  },
  {
   "cell_type": "markdown",
   "metadata": {},
   "source": [
    "$ CCNOT = \\mymatrix{cccccccc}{\n",
    "    \\blackbit{1} & 0 & 0 & 0 & 0 & 0 & 0 & 0 \\\\ \n",
    "    0 & \\blackbit{1} & 0 & 0 & 0 & 0 & 0 & 0 \\\\\n",
    "    0 & 0 & \\blackbit{1} & 0 & 0 & 0 & 0 & 0 \\\\\n",
    "    0 & 0 & 0 & \\blackbit{1} & 0 & 0 & 0 & 0 \\\\\n",
    "    0 & 0 & 0 & 0 & \\blackbit{1} & 0 & 0 & 0 \\\\\n",
    "    0 & 0 & 0 & 0 & 0 & \\blackbit{1} & 0 & 0 \\\\\n",
    "    0 & 0 & 0 & 0 & 0 & 0 & 0 & \\bluebit{1} \\\\\n",
    "    0 & 0 & 0 & 0 & 0 & 0 & \\bluebit{1} & 0 \\\\ \n",
    "    } . $\n",
    "<br><br>\n",
    "\n",
    "    # 1st controller qubit is q[2] -- the first parameter\n",
    "    # 2nd controller qubit is q[1] -- the second parameter\n",
    "    # target qubit is q[0] -- the third parameter\n",
    "    qc.ccx(q[2],q[1],q[0]) # apply ccx-gate to the qubits \"q[2]\", \"q[1]\", and \"q[0]\" of the quantum circuit \"qc\""
   ]
  },
  {
   "cell_type": "markdown",
   "metadata": {},
   "source": [
    "<hr>\n",
    "<h3>Measuring a quantum circuit</h3>"
   ]
  },
  {
   "cell_type": "markdown",
   "metadata": {},
   "source": [
    "1) Each quantum bit can be associated with a specific classical bit when measuring.\n",
    "\n",
    "    qc.measure(q[0],c[3]) # measure q[0] and write the output on c[3]\n",
    "    qc.measure(q[1],c[1]) # measure q[1] and write the output on c[1]\n",
    "    qc.measure(q[2],c[4]) # measure q[2] and write the output on c[4]\n",
    "    qc.measure(q[3],c[0]) # measure q[3] and write the output on c[0]\n",
    "    qc.measure(q[4],c[2]) # measure q[4] and write the output on c[2]"
   ]
  },
  {
   "cell_type": "markdown",
   "metadata": {},
   "source": [
    "2) In many cases, each quantum bit is associated with the classical bit having the same index.\n",
    "\n",
    "    qc.measure(q[0],c[0])\n",
    "    qc.measure(q[1],c[1])\n",
    "    qc.measure(q[2],c[2])\n",
    "    qc.measure(q[3],c[3])\n",
    "    qc.measure(q[4],c[4])\n",
    "\n",
    "This can be shortly specified as\n",
    "\n",
    "    qc.measure(q,c) # measure \"q\" and store the outcomes on \"c\""
   ]
  },
  {
   "cell_type": "markdown",
   "metadata": {},
   "source": [
    "3) A measurement can be partial, i.e., only a part of quantum register can be measured.\n",
    "\n",
    "    qc.measure(q[2],c[0])\n",
    "    qc.measure(q[3],c[1])\n",
    "    qc.measure(q[4],c[2])"
   ]
  },
  {
   "cell_type": "markdown",
   "metadata": {},
   "source": [
    "<hr>\n",
    "<h3>Quantum operation controlled by a classical register</h3>"
   ]
  },
  {
   "cell_type": "markdown",
   "metadata": {},
   "source": [
    "This option is available when using simulators. \n",
    "\n",
    "In the following example, the last operator (x-gate) on the quantum register will be executed if the value of the classical register is 1.\n",
    "\n",
    "    q = QuantumRegister(1)\n",
    "    c = ClassicalRegister(1)\n",
    "    qc = QuantumCircuit(q,c)\n",
    "    ...\n",
    "    qc.measure(q,c)\n",
    "    qc.x(q[0]).c_if(c,1)"
   ]
  },
  {
   "cell_type": "markdown",
   "metadata": {},
   "source": [
    "<hr>\n",
    "<h3>Drawing or printing a quantum circuit</h3>"
   ]
  },
  {
   "cell_type": "markdown",
   "metadata": {},
   "source": [
    "There are different methods to draw a circuit.\n",
    "\n",
    "We use a method of circuit object called \"draw\".\n",
    "\n",
    "1) Without any parameters, the circuit is drawn by using <b>ASCII art</b>.\n",
    "\n",
    "    qc.draw()"
   ]
  },
  {
   "cell_type": "markdown",
   "metadata": {},
   "source": [
    "The method \"draw\" can also take different parameters.\n",
    "\n",
    "2) The circuit can be drawn by using \"<b>matplotlib</b>\" library of python.\n",
    "\n",
    "We can reverse the order of classical and quantum bits. \n",
    "\n",
    "This is the order of reading the outcomes of classical bits (from top-to-bottom).\n",
    "\n",
    "    qc.draw(output='mpl',reverse_bits=True)"
   ]
  },
  {
   "cell_type": "markdown",
   "metadata": {},
   "source": [
    "3) The circuit can be drawn by using <b>LaTex</b>.\n",
    "\n",
    "We can scale the output graphics. \n",
    "\n",
    "    qc.draw(output='latex',scale=0.5)"
   ]
  },
  {
   "cell_type": "markdown",
   "metadata": {},
   "source": [
    "<hr>\n",
    "<h3>Executing a quantum program on local simulator</h3>"
   ]
  },
  {
   "cell_type": "markdown",
   "metadata": {},
   "source": [
    "Executing a quantum program 1000 times:\n",
    "\n",
    "    job = AerSimulator().run(qc,shots=1000)\n",
    "    \n",
    "The results can be accessed as a dictionary:  \n",
    "\n",
    "    counts = job.result().get_counts(qc)   \n",
    "    print(counts)\n",
    "\n",
    "Remark that:\n",
    "\n",
    "- In qiskit, when a quantum register has $n$ qubits, $q[0], q[1], \\ldots, q[n-1]$, they are combined as \n",
    "$$ q[n-1] \\otimes \\cdots \\otimes q[1] \\otimes q[0]. $$\n",
    "\n",
    "\n",
    "- Similarly, any classical register with $n$ bits are combined as $$ c[n-1] \\otimes \\cdots \\otimes c[1] \\otimes c[0]. $$\n",
    "\n",
    "\n",
    "- Then, any outcome read from the classical register is a bit string of length $n$: \n",
    "$$b_{n-1}\\cdots b_1 b_0, $$ \n",
    "where $ b_i \\in \\{0,1\\} $ is the outcome in the $ i $-th classical bit ($ 0 \\leq i \\leq n-1 $).\n"
   ]
  },
  {
   "cell_type": "markdown",
   "metadata": {},
   "source": [
    "<hr>\n",
    "<h3>Reading the quantum state of a circuit on local simulator</h3>\n",
    "\n",
    "The quantum state of a circuit can be read when using \"StatevectorSimulator\".\n",
    "\n",
    "    job = StatevectorSimulator().run(qc,optimization_level=0)\n",
    "    precision = 3\n",
    "    current_quantum_state=job.result().get_statevector(qc,precision).data\n",
    "\n",
    "If there is any measurement operator before, the simulator simulates the(se) measurement(s) and return the result accordingly.\n",
    "\n",
    "The result is a list of complex numbers. We can access the amplitude of each state by using its index, e.g.,\n",
    "\n",
    "    current_quantum_state[0].real # real part of the amplitude by the first state\n",
    "    current_quantum_state[0].imag # imaginary part of the amplitude by the first state"
   ]
  },
  {
   "cell_type": "markdown",
   "metadata": {},
   "source": [
    "<hr>\n",
    "<h3>Reading the unitary operator of a circuit on local simulator</h3>\n",
    "\n",
    "\"UnitarySimulator\" gives a unitary representation of all gates in the circuit until that point.\n",
    "\n",
    "    job = UnitarySimulator().run(qc,shots=1,optimization_level=0)\n",
    "    precision = 3\n",
    "    current_unitary=job.result().get_unitary(qc,precision).data\n",
    "\n",
    "The result is a double list of complex numbers (as it is a matrix). \n",
    "\n",
    "    current_unitary[0][0].real # real part of the amplitude at the (1,1)-th entry\n",
    "    current_unitary[0][0].imag # imaginary part of the amplitude at the (1,1)-th entry"
   ]
  }
 ],
 "metadata": {
  "kernelspec": {
   "display_name": "Python 3 (ipykernel)",
   "language": "python",
   "name": "python3"
  },
  "language_info": {
   "codemirror_mode": {
    "name": "ipython",
    "version": 3
   },
   "file_extension": ".py",
   "mimetype": "text/x-python",
   "name": "python",
   "nbconvert_exporter": "python",
   "pygments_lexer": "ipython3",
   "version": "3.13.5"
  }
 },
 "nbformat": 4,
 "nbformat_minor": 4
}
